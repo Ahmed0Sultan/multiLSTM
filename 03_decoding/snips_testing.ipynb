{
 "cells": [
  {
   "cell_type": "code",
   "execution_count": 1,
   "metadata": {},
   "outputs": [
    {
     "name": "stderr",
     "output_type": "stream",
     "text": [
      "/home/derek/miniconda3/lib/python3.6/site-packages/h5py/__init__.py:36: FutureWarning: Conversion of the second argument of issubdtype from `float` to `np.floating` is deprecated. In future, it will be treated as `np.float64 == np.dtype(float).type`.\n",
      "  from ._conv import register_converters as _register_converters\n",
      "Using TensorFlow backend.\n"
     ]
    }
   ],
   "source": [
    "import numpy as np\n",
    "import pickle\n",
    "from mltools.preprocessing import Tokenizer, Indexer, Pipeline, LabelIndexer\n",
    "from sklearn.metrics import classification_report, confusion_matrix, f1_score"
   ]
  },
  {
   "cell_type": "code",
   "execution_count": 2,
   "metadata": {},
   "outputs": [],
   "source": [
    "x_train  = np.load('../00_data/encoded/snips_x_train.npy')\n",
    "x_test   = np.load('../00_data/encoded/snips_x_test.npy')\n",
    "yt_train = np.load('../00_data/encoded/snips_y_tags_train.npy')\n",
    "yt_test  = np.load('../00_data/encoded/snips_y_tags_test.npy')\n",
    "yi_train = np.load('../00_data/encoded/snips_y_int_train.npy')\n",
    "yi_test  = np.load('../00_data/encoded/snips_y_int_test.npy')\n",
    "\n",
    "yt_preds = np.load('../00_data/model/snips_pred_tags.npy')\n",
    "yi_preds = np.load('../00_data/model/snips_pred_ints.npy')"
   ]
  },
  {
   "cell_type": "code",
   "execution_count": 3,
   "metadata": {},
   "outputs": [],
   "source": [
    "intent_indexer = pickle.load(open(\"../00_data/encoded/snips_intent_indexer.pkl\", \"rb\"))\n",
    "label_indexer  = pickle.load(open(\"../00_data/encoded/snips_label_indexer.pkl\", \"rb\"))\n",
    "word_idxpipe   = pickle.load(open(\"../00_data/encoded/snips_sent_indexer.pkl\", \"rb\"))"
   ]
  },
  {
   "cell_type": "code",
   "execution_count": 4,
   "metadata": {},
   "outputs": [],
   "source": [
    "yi_preds = np.argmax(yi_preds, axis=1)\n",
    "yi_preds = intent_indexer.inverse_transform(yi_preds)"
   ]
  },
  {
   "cell_type": "code",
   "execution_count": 5,
   "metadata": {},
   "outputs": [],
   "source": [
    "yi_test = np.squeeze(yi_test)\n",
    "yi_test = intent_indexer.inverse_transform(yi_test)"
   ]
  },
  {
   "cell_type": "markdown",
   "metadata": {},
   "source": [
    "### intents"
   ]
  },
  {
   "cell_type": "code",
   "execution_count": 6,
   "metadata": {},
   "outputs": [
    {
     "name": "stdout",
     "output_type": "stream",
     "text": [
      "0.7642857142857142\n",
      "\n",
      "                      precision    recall  f1-score   support\n",
      "\n",
      "       AddToPlaylist       0.82      0.99      0.90       100\n",
      "      BookRestaurant       0.91      0.98      0.94       100\n",
      "          GetWeather       0.94      0.58      0.72       100\n",
      "           PlayMusic       0.15      0.08      0.10       100\n",
      "            RateBook       0.99      0.99      0.99       100\n",
      "  SearchCreativeWork       0.55      0.97      0.71       100\n",
      "SearchScreeningEvent       0.94      0.76      0.84       100\n",
      "\n",
      "         avg / total       0.76      0.76      0.74       700\n",
      "\n"
     ]
    }
   ],
   "source": [
    "print(f1_score(yi_test, yi_preds, average='micro'))\n",
    "print()\n",
    "print(classification_report(yi_test, yi_preds))"
   ]
  },
  {
   "cell_type": "code",
   "execution_count": 7,
   "metadata": {},
   "outputs": [
    {
     "name": "stdout",
     "output_type": "stream",
     "text": [
      "['SearchScreeningEvent', 'GetWeather', 'BookRestaurant', 'AddToPlaylist', 'SearchCreativeWork', 'RateBook', 'PlayMusic']\n",
      "[[76  3  3  0 11  0  7]\n",
      " [ 3 58  0  0  0  0 39]\n",
      " [ 0  0 98  0  2  0  0]\n",
      " [ 0  0  0 99  1  0  0]\n",
      " [ 1  0  2  0 97  0  0]\n",
      " [ 0  0  1  0  0 99  0]\n",
      " [ 1  1  4 21 64  1  8]]\n"
     ]
    }
   ],
   "source": [
    "labels = [t[0] for t in sorted(list(intent_indexer.tag2idx.items()), key=lambda x:x[1])]\n",
    "print(labels)\n",
    "print(confusion_matrix(yi_test, yi_preds, labels=labels))"
   ]
  },
  {
   "cell_type": "markdown",
   "metadata": {},
   "source": [
    "### labels"
   ]
  },
  {
   "cell_type": "code",
   "execution_count": 8,
   "metadata": {},
   "outputs": [],
   "source": [
    "yt_preds = np.argmax(yt_preds, axis=-1)\n",
    "yt_test = np.squeeze(yt_test, axis=-1)\n",
    "yt_preds = label_indexer.inverse_transform(yt_preds)\n",
    "yt_test = label_indexer.inverse_transform(yt_test)"
   ]
  },
  {
   "cell_type": "code",
   "execution_count": 11,
   "metadata": {},
   "outputs": [],
   "source": [
    "y_test_tot, y_pred_tot = [], []\n",
    "for i in range(len(yt_test)):\n",
    "    for j in range(len(yt_test[i])):\n",
    "        if yt_test[i][j] != 'PAD':\n",
    "            y_test_tot.append(yt_test[i][j])\n",
    "            y_pred_tot.append(yt_preds[i][j])"
   ]
  },
  {
   "cell_type": "code",
   "execution_count": 12,
   "metadata": {},
   "outputs": [
    {
     "name": "stdout",
     "output_type": "stream",
     "text": [
      "0.5569014982467325\n",
      "\n",
      "                            precision    recall  f1-score   support\n",
      "\n",
      "                      NONE       0.61      0.88      0.72      3127\n",
      "                     album       0.00      0.00      0.00        35\n",
      "                    artist       0.00      0.00      0.00       222\n",
      "               best_rating       0.00      0.00      0.00        51\n",
      "                      city       0.13      0.04      0.06        84\n",
      "     condition_description       0.00      0.00      0.00        22\n",
      "     condition_temperature       0.00      0.00      0.00        21\n",
      "                   country       0.00      0.00      0.00        64\n",
      "                   cuisine       0.00      0.00      0.00        13\n",
      "          current_location       0.00      0.00      0.00        20\n",
      "               entity_name       0.00      0.00      0.00        72\n",
      "                  facility       0.00      0.00      0.00         7\n",
      "                     genre       0.00      0.00      0.00         6\n",
      "            geographic_poi       0.00      0.00      0.00        55\n",
      "             location_name       0.00      0.00      0.00        66\n",
      "                movie_name       0.00      0.00      0.00       161\n",
      "                movie_type       0.00      0.00      0.00        33\n",
      "                music_item       0.00      0.00      0.00        89\n",
      "      object_location_type       0.00      0.00      0.00        31\n",
      "               object_name       0.40      0.69      0.51       526\n",
      "object_part_of_series_type       0.00      0.00      0.00        15\n",
      "             object_select       0.00      0.00      0.00        51\n",
      "               object_type       0.33      0.00      0.01       202\n",
      "    party_size_description       0.00      0.00      0.00        49\n",
      "         party_size_number       0.00      0.00      0.00        53\n",
      "                  playlist       0.60      0.80      0.69       293\n",
      "            playlist_owner       0.00      0.00      0.00        54\n",
      "                       poi       0.00      0.00      0.00        14\n",
      "               rating_unit       0.00      0.00      0.00        61\n",
      "              rating_value       0.00      0.00      0.00       100\n",
      "           restaurant_name       0.00      0.00      0.00        61\n",
      "           restaurant_type       0.00      0.00      0.00        67\n",
      "               served_dish       0.00      0.00      0.00         6\n",
      "                   service       0.00      0.00      0.00        50\n",
      "                      sort       0.00      0.00      0.00        31\n",
      "          spatial_relation       0.00      0.00      0.00       119\n",
      "                     state       0.00      0.00      0.00        56\n",
      "                 timeRange       0.33      0.61      0.43       241\n",
      "                     track       0.00      0.00      0.00        21\n",
      "                      year       0.00      0.00      0.00        25\n",
      "\n",
      "               avg / total       0.39      0.56      0.45      6274\n",
      "\n"
     ]
    },
    {
     "name": "stderr",
     "output_type": "stream",
     "text": [
      "/home/derek/miniconda3/lib/python3.6/site-packages/sklearn/metrics/classification.py:1113: UndefinedMetricWarning: Precision and F-score are ill-defined and being set to 0.0 in labels with no predicted samples.\n",
      "  'precision', 'predicted', average, warn_for)\n"
     ]
    }
   ],
   "source": [
    "print(f1_score(y_test_tot, y_pred_tot, average='micro'))\n",
    "print()\n",
    "print(classification_report(y_test_tot, y_pred_tot))"
   ]
  },
  {
   "cell_type": "code",
   "execution_count": null,
   "metadata": {},
   "outputs": [],
   "source": []
  }
 ],
 "metadata": {
  "kernelspec": {
   "display_name": "atlas",
   "language": "python",
   "name": "atlas"
  },
  "language_info": {
   "codemirror_mode": {
    "name": "ipython",
    "version": 3
   },
   "file_extension": ".py",
   "mimetype": "text/x-python",
   "name": "python",
   "nbconvert_exporter": "python",
   "pygments_lexer": "ipython3",
   "version": "3.6.3"
  }
 },
 "nbformat": 4,
 "nbformat_minor": 2
}
