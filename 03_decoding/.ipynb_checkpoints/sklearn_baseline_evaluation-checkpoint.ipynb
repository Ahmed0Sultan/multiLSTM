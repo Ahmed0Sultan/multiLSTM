{
 "cells": [
  {
   "cell_type": "code",
   "execution_count": 1,
   "metadata": {},
   "outputs": [],
   "source": [
    "%matplotlib inline\n",
    "\n",
    "import matplotlib\n",
    "import matplotlib.pyplot as plt"
   ]
  },
  {
   "cell_type": "code",
   "execution_count": 2,
   "metadata": {},
   "outputs": [],
   "source": [
    "# basic tools\n",
    "import numpy as np\n",
    "import pandas as pd\n",
    "import re\n",
    "\n",
    "# sklearn modeling tools\n",
    "from sklearn.preprocessing import LabelEncoder\n",
    "from sklearn.pipeline import FeatureUnion\n",
    "from sklearn.pipeline import Pipeline\n",
    "from sklearn.feature_extraction import DictVectorizer\n",
    "from sklearn.feature_extraction.text import CountVectorizer, TfidfTransformer\n",
    "from sklearn.decomposition import TruncatedSVD\n",
    "from sklearn.model_selection import train_test_split, GridSearchCV\n",
    "from sklearn.base import BaseEstimator, TransformerMixin\n",
    "\n",
    "# sklearn classifiers\n",
    "# must have a predict_proba() functionality\n",
    "from sklearn.linear_model import LogisticRegression\n",
    "from sklearn.ensemble import RandomForestClassifier, VotingClassifier\n",
    "from sklearn.neural_network import MLPClassifier\n",
    "from sklearn.naive_bayes import MultinomialNB\n",
    "from sklearn.svm import SVC, LinearSVC\n",
    "\n",
    "#sklearn evaluation tools\n",
    "from sklearn.metrics import precision_score\n",
    "from sklearn.metrics import recall_score\n",
    "from sklearn.metrics import accuracy_score\n",
    "from sklearn.metrics import classification_report"
   ]
  },
  {
   "cell_type": "code",
   "execution_count": 3,
   "metadata": {},
   "outputs": [
    {
     "data": {
      "text/plain": [
       "LabelEncoder()"
      ]
     },
     "execution_count": 3,
     "metadata": {},
     "output_type": "execute_result"
    }
   ],
   "source": [
    "X_tokens = list(np.load('../00_data/encoded/add_tokens.npy'))\n",
    "X_postags = list(np.load('../00_data/encoded/add_postags.npy'))\n",
    "y_speechacts = list(np.load('../00_data/encoded/add_speechacts.npy'))\n",
    "y_topics = list(np.load('../00_data/encoded/add_topics.npy'))\n",
    "encoder = LabelEncoder()\n",
    "encoder.fit(y_speechacts)\n",
    "tencoder = LabelEncoder()\n",
    "tencoder.fit(y_topics)"
   ]
  },
  {
   "cell_type": "code",
   "execution_count": 4,
   "metadata": {},
   "outputs": [],
   "source": [
    "split_idx = int(len(X_tokens)*0.9)\n",
    "X_train_sents = X_tokens[:split_idx]\n",
    "X_train_pos = X_postags[:split_idx]\n",
    "X_test_sents = X_tokens[split_idx:]\n",
    "X_test_pos = X_postags[split_idx:]\n",
    "y_train_sacts = y_speechacts[:split_idx]\n",
    "y_test_sacts = y_speechacts[split_idx:]\n",
    "y_train_topics = y_topics[:split_idx]\n",
    "y_test_topics = y_topics[split_idx:]\n",
    "\n",
    "X_train = [' '.join(s) for s in X_train_sents]\n",
    "X_test = [' '.join(s) for s in X_test_sents]\n",
    "y_train = encoder.transform(y_train_sacts)\n",
    "y_test = encoder.transform(y_test_sacts)\n",
    "y_ttrain = tencoder.transform(y_train_topics)\n",
    "y_ttest = tencoder.transform(y_test_topics)"
   ]
  },
  {
   "cell_type": "markdown",
   "metadata": {},
   "source": [
    "## speech-act classification"
   ]
  },
  {
   "cell_type": "code",
   "execution_count": 5,
   "metadata": {},
   "outputs": [],
   "source": [
    "pipeline = Pipeline([\n",
    "    ('vect', CountVectorizer()),\n",
    "    ('tfidf', TfidfTransformer()),\n",
    "    ('clf', LinearSVC())\n",
    "])"
   ]
  },
  {
   "cell_type": "code",
   "execution_count": 6,
   "metadata": {},
   "outputs": [
    {
     "data": {
      "text/plain": [
       "Pipeline(steps=[('vect', CountVectorizer(analyzer='word', binary=False, decode_error='strict',\n",
       "        dtype=<class 'numpy.int64'>, encoding='utf-8', input='content',\n",
       "        lowercase=True, max_df=1.0, max_features=None, min_df=1,\n",
       "        ngram_range=(1, 1), preprocessor=None, stop_words=None,\n",
       "        strip...ax_iter=1000,\n",
       "     multi_class='ovr', penalty='l2', random_state=None, tol=0.0001,\n",
       "     verbose=0))])"
      ]
     },
     "execution_count": 6,
     "metadata": {},
     "output_type": "execute_result"
    }
   ],
   "source": [
    "pipeline.fit(X_train, y_train)"
   ]
  },
  {
   "cell_type": "code",
   "execution_count": 9,
   "metadata": {},
   "outputs": [],
   "source": [
    "tpreds = pipeline.predict(X_train)\n",
    "txttpreds = encoder.inverse_transform(tpreds)\n",
    "preds = pipeline.predict(X_test)\n",
    "txtpreds = encoder.inverse_transform(preds)"
   ]
  },
  {
   "cell_type": "code",
   "execution_count": 10,
   "metadata": {},
   "outputs": [
    {
     "name": "stdout",
     "output_type": "stream",
     "text": [
      "train precision 0.843945255398\n",
      "train recall    0.726487430623\n",
      "train accuracy  0.871683309558\n",
      "\n",
      "test precision 0.764387869858\n",
      "test recall    0.722603761044\n",
      "test accuracy  0.809370988447\n"
     ]
    },
    {
     "name": "stderr",
     "output_type": "stream",
     "text": [
      "/home/derek/anaconda3/envs/core_eng/lib/python3.6/site-packages/sklearn/metrics/classification.py:1113: UndefinedMetricWarning: Precision is ill-defined and being set to 0.0 in labels with no predicted samples.\n",
      "  'precision', 'predicted', average, warn_for)\n"
     ]
    }
   ],
   "source": [
    "print(\"train precision\", precision_score(y_train_sacts, txttpreds, average='macro'))\n",
    "print(\"train recall   \", recall_score(y_train_sacts, txttpreds, average='macro'))\n",
    "print(\"train accuracy \", accuracy_score(y_train_sacts, txttpreds))\n",
    "print('')\n",
    "print(\"test precision\", precision_score(y_test_sacts, txtpreds, average='macro'))\n",
    "print(\"test recall   \", recall_score(y_test_sacts, txtpreds, average='macro'))\n",
    "print(\"test accuracy \", accuracy_score(y_test_sacts, txtpreds))"
   ]
  },
  {
   "cell_type": "markdown",
   "metadata": {
    "collapsed": true
   },
   "source": [
    "## topic classification"
   ]
  },
  {
   "cell_type": "code",
   "execution_count": 11,
   "metadata": {},
   "outputs": [],
   "source": [
    "pipeline = Pipeline([\n",
    "    ('vect', CountVectorizer()),\n",
    "    ('tfidf', TfidfTransformer()),\n",
    "    ('clf', LinearSVC())\n",
    "])"
   ]
  },
  {
   "cell_type": "code",
   "execution_count": 12,
   "metadata": {},
   "outputs": [
    {
     "data": {
      "text/plain": [
       "Pipeline(steps=[('vect', CountVectorizer(analyzer='word', binary=False, decode_error='strict',\n",
       "        dtype=<class 'numpy.int64'>, encoding='utf-8', input='content',\n",
       "        lowercase=True, max_df=1.0, max_features=None, min_df=1,\n",
       "        ngram_range=(1, 1), preprocessor=None, stop_words=None,\n",
       "        strip...ax_iter=1000,\n",
       "     multi_class='ovr', penalty='l2', random_state=None, tol=0.0001,\n",
       "     verbose=0))])"
      ]
     },
     "execution_count": 12,
     "metadata": {},
     "output_type": "execute_result"
    }
   ],
   "source": [
    "pipeline.fit(X_train, y_ttrain)"
   ]
  },
  {
   "cell_type": "code",
   "execution_count": 15,
   "metadata": {},
   "outputs": [],
   "source": [
    "tpreds = pipeline.predict(X_train)\n",
    "txttpreds = tencoder.inverse_transform(tpreds)\n",
    "preds = pipeline.predict(X_test)\n",
    "txtpreds = tencoder.inverse_transform(preds)"
   ]
  },
  {
   "cell_type": "code",
   "execution_count": 16,
   "metadata": {},
   "outputs": [
    {
     "name": "stdout",
     "output_type": "stream",
     "text": [
      "train precision 0.882497828431\n",
      "train recall    0.838802577875\n",
      "train accuracy  0.934236804565\n",
      "\n",
      "test precision 0.86166845483\n",
      "test recall    0.814780976901\n",
      "test accuracy  0.885750962773\n",
      "\n"
     ]
    },
    {
     "name": "stderr",
     "output_type": "stream",
     "text": [
      "/home/derek/anaconda3/envs/core_eng/lib/python3.6/site-packages/sklearn/metrics/classification.py:1113: UndefinedMetricWarning: Precision is ill-defined and being set to 0.0 in labels with no predicted samples.\n",
      "  'precision', 'predicted', average, warn_for)\n",
      "/home/derek/anaconda3/envs/core_eng/lib/python3.6/site-packages/sklearn/metrics/classification.py:1115: UndefinedMetricWarning: Recall is ill-defined and being set to 0.0 in labels with no true samples.\n",
      "  'recall', 'true', average, warn_for)\n"
     ]
    }
   ],
   "source": [
    "print(\"train precision\", precision_score(y_train_topics, txttpreds, average='macro'))\n",
    "print(\"train recall   \", recall_score(y_train_topics, txttpreds, average='macro'))\n",
    "print(\"train accuracy \", accuracy_score(y_train_topics, txttpreds))\n",
    "print('')\n",
    "print(\"test precision\", precision_score(y_test_topics, txtpreds, average='macro'))\n",
    "print(\"test recall   \", recall_score(y_test_topics, txtpreds, average='macro'))\n",
    "print(\"test accuracy \", accuracy_score(y_test_topics, txtpreds))\n",
    "print('')"
   ]
  },
  {
   "cell_type": "markdown",
   "metadata": {},
   "source": [
    "## analysis"
   ]
  },
  {
   "cell_type": "code",
   "execution_count": 17,
   "metadata": {},
   "outputs": [],
   "source": [
    "from collections import Counter\n",
    "sac = Counter(y_speechacts)\n",
    "sat = list(sac.most_common())\n",
    "word = [t[0] for t in sat]\n",
    "frequency = [t[1] for t in sat]"
   ]
  },
  {
   "cell_type": "code",
   "execution_count": 18,
   "metadata": {},
   "outputs": [
    {
     "data": {
      "image/png": "[encoded data removed]",
      "text/plain": [
       "<matplotlib.figure.Figure at 0x7fdf14c072e8>"
      ]
     },
     "metadata": {},
     "output_type": "display_data"
    }
   ],
   "source": [
    "indices = np.arange(len(sat))\n",
    "plt.bar(indices, frequency, color='r')\n",
    "plt.xticks(indices, word, rotation='vertical')\n",
    "plt.tight_layout()\n",
    "plt.show()"
   ]
  },
  {
   "cell_type": "code",
   "execution_count": 19,
   "metadata": {},
   "outputs": [],
   "source": [
    "top_score = [1.0 if x == 'state' else 0.0 for x in y_speechacts ]"
   ]
  },
  {
   "cell_type": "code",
   "execution_count": 20,
   "metadata": {},
   "outputs": [
    {
     "data": {
      "text/plain": [
       "0.3560790858903582"
      ]
     },
     "execution_count": 20,
     "metadata": {},
     "output_type": "execute_result"
    }
   ],
   "source": [
    "sum(top_score)/len(top_score)"
   ]
  },
  {
   "cell_type": "code",
   "execution_count": 21,
   "metadata": {},
   "outputs": [],
   "source": [
    "top_x = list(sac.most_common(24))\n",
    "top_x = [x[0] for x in top_x]"
   ]
  },
  {
   "cell_type": "code",
   "execution_count": 22,
   "metadata": {},
   "outputs": [],
   "source": [
    "trunc_acts = [label if label in top_x else 'ood' for label in y_speechacts]"
   ]
  },
  {
   "cell_type": "code",
   "execution_count": 23,
   "metadata": {},
   "outputs": [
    {
     "data": {
      "text/plain": [
       "Counter({'abandon': 332,\n",
       "         'agree': 61,\n",
       "         'approve': 105,\n",
       "         'direct': 97,\n",
       "         'expressImPossibility': 58,\n",
       "         'expressOpinion': 309,\n",
       "         'expressPossibility': 274,\n",
       "         'expressWish': 171,\n",
       "         'hold': 340,\n",
       "         'identifySelf': 60,\n",
       "         'ood': 449,\n",
       "         'predict': 373,\n",
       "         'refer': 1916,\n",
       "         'reqConfirm': 910,\n",
       "         'reqDirect': 614,\n",
       "         'reqInfo': 2016,\n",
       "         'reqOpt': 86,\n",
       "         'state': 5547,\n",
       "         'stateCondition': 403,\n",
       "         'stateConstraint': 486,\n",
       "         'stateIntent': 491,\n",
       "         'stateOpt': 80,\n",
       "         'stateReason': 159,\n",
       "         'suggest': 160,\n",
       "         'thank': 81})"
      ]
     },
     "execution_count": 23,
     "metadata": {},
     "output_type": "execute_result"
    }
   ],
   "source": [
    "Counter(trunc_acts)"
   ]
  },
  {
   "cell_type": "code",
   "execution_count": null,
   "metadata": {},
   "outputs": [],
   "source": []
  }
 ],
 "metadata": {
  "kernelspec": {
   "display_name": "core_eng",
   "language": "python",
   "name": "core_eng"
  },
  "language_info": {
   "codemirror_mode": {
    "name": "ipython",
    "version": 3
   },
   "file_extension": ".py",
   "mimetype": "text/x-python",
   "name": "python",
   "nbconvert_exporter": "python",
   "pygments_lexer": "ipython3",
   "version": "3.6.2"
  }
 },
 "nbformat": 4,
 "nbformat_minor": 2
}
