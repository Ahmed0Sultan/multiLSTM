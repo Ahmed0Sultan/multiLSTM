{
 "cells": [
  {
   "cell_type": "code",
   "execution_count": 1,
   "metadata": {},
   "outputs": [
    {
     "name": "stderr",
     "output_type": "stream",
     "text": [
      "/home/derek/miniconda3/lib/python3.6/site-packages/h5py/__init__.py:36: FutureWarning: Conversion of the second argument of issubdtype from `float` to `np.floating` is deprecated. In future, it will be treated as `np.float64 == np.dtype(float).type`.\n",
      "  from ._conv import register_converters as _register_converters\n",
      "Using TensorFlow backend.\n"
     ]
    }
   ],
   "source": [
    "import numpy as np\n",
    "import pickle\n",
    "from collections import Counter\n",
    "from mltools.preprocessing import Tokenizer, Indexer, Pipeline, LabelIndexer\n",
    "from keras.preprocessing import sequence"
   ]
  },
  {
   "cell_type": "code",
   "execution_count": 2,
   "metadata": {},
   "outputs": [],
   "source": [
    "train_sents   = pickle.load(open('../00_data/snips/train_sents.pkl', 'rb'))\n",
    "train_tags    = pickle.load(open('../00_data/snips/train_tags.pkl', 'rb'))\n",
    "train_intents = pickle.load(open('../00_data/snips/train_intents.pkl', 'rb'))\n",
    "\n",
    "test_sents    = pickle.load(open('../00_data/snips/val_sents.pkl', 'rb'))\n",
    "test_tags     = pickle.load(open('../00_data/snips/val_tags.pkl', 'rb'))\n",
    "test_intents  = pickle.load(open('../00_data/snips/val_intents.pkl', 'rb'))"
   ]
  },
  {
   "cell_type": "code",
   "execution_count": 3,
   "metadata": {},
   "outputs": [
    {
     "data": {
      "text/plain": [
       "10305"
      ]
     },
     "execution_count": 3,
     "metadata": {},
     "output_type": "execute_result"
    }
   ],
   "source": [
    "vocab = list(set([w for s in train_sents for w in s]))\n",
    "len(vocab)"
   ]
  },
  {
   "cell_type": "code",
   "execution_count": 4,
   "metadata": {},
   "outputs": [],
   "source": [
    "VOCABSIZE = 10000"
   ]
  },
  {
   "cell_type": "code",
   "execution_count": 5,
   "metadata": {},
   "outputs": [
    {
     "data": {
      "text/plain": [
       "(9.243978525827046, 3.1407135430676423)"
      ]
     },
     "execution_count": 5,
     "metadata": {},
     "output_type": "execute_result"
    }
   ],
   "source": [
    "lens = [len(s) for s in train_sents]\n",
    "np.mean(lens), np.std(lens)"
   ]
  },
  {
   "cell_type": "code",
   "execution_count": 6,
   "metadata": {},
   "outputs": [],
   "source": [
    "MAXLEN = 15"
   ]
  },
  {
   "cell_type": "markdown",
   "metadata": {},
   "source": [
    "### label, sentence encoding"
   ]
  },
  {
   "cell_type": "code",
   "execution_count": 7,
   "metadata": {},
   "outputs": [],
   "source": [
    "# label_indexing\n",
    "intent_indexer = LabelIndexer(zero_pad=False)"
   ]
  },
  {
   "cell_type": "code",
   "execution_count": 8,
   "metadata": {},
   "outputs": [
    {
     "data": {
      "text/plain": [
       "(13784, 1)"
      ]
     },
     "execution_count": 8,
     "metadata": {},
     "output_type": "execute_result"
    }
   ],
   "source": [
    "intent_indexer.fit(train_intents)\n",
    "int_trn_idxes = np.array(intent_indexer.transform(train_intents))[:, np.newaxis]\n",
    "int_tst_idxes = np.array(intent_indexer.transform(test_intents))[:, np.newaxis]\n",
    "int_trn_idxes.shape"
   ]
  },
  {
   "cell_type": "code",
   "execution_count": 9,
   "metadata": {},
   "outputs": [],
   "source": [
    "label_indexer = LabelIndexer(zero_pad=True)"
   ]
  },
  {
   "cell_type": "code",
   "execution_count": 10,
   "metadata": {},
   "outputs": [
    {
     "name": "stdout",
     "output_type": "stream",
     "text": [
      "['NONE', 'NONE', 'NONE', 'NONE', 'object_type', 'NONE', 'object_name', 'object_name']\n",
      "CPU times: user 56.6 ms, sys: 1 µs, total: 56.6 ms\n",
      "Wall time: 56.2 ms\n"
     ]
    }
   ],
   "source": [
    "%%time\n",
    "all_tags = train_tags + test_tags\n",
    "label_indexer.fit(all_tags)\n",
    "tags_trn_idxes = label_indexer.transform(train_tags)\n",
    "tags_tst_idxes = label_indexer.transform(test_tags)\n",
    "cx = label_indexer.inverse_transform(tags_tst_idxes[0:2])\n",
    "print(cx[0])"
   ]
  },
  {
   "cell_type": "code",
   "execution_count": 11,
   "metadata": {},
   "outputs": [
    {
     "data": {
      "text/plain": [
       "(13784, 15)"
      ]
     },
     "execution_count": 11,
     "metadata": {},
     "output_type": "execute_result"
    }
   ],
   "source": [
    "tags_trn_idxes = sequence.pad_sequences(tags_trn_idxes, maxlen=MAXLEN, padding='post', truncating='post')\n",
    "tags_tst_idxes = sequence.pad_sequences(tags_tst_idxes, maxlen=MAXLEN, padding='post', truncating='post')\n",
    "tags_trn_idxes.shape"
   ]
  },
  {
   "cell_type": "code",
   "execution_count": 12,
   "metadata": {},
   "outputs": [],
   "source": [
    "tags_trn_idxes = tags_trn_idxes[:, :, np.newaxis]\n",
    "tags_tst_idxes = tags_tst_idxes[:, :, np.newaxis]"
   ]
  },
  {
   "cell_type": "code",
   "execution_count": 13,
   "metadata": {},
   "outputs": [],
   "source": [
    "# char-based indexing\n",
    "word_idxpipe = Pipeline([\n",
    "    ('tknzr', Tokenizer(lower=False, min_count=1)),\n",
    "    ('idxer', Indexer(max_len=MAXLEN, max_vocab=VOCABSIZE))\n",
    "])"
   ]
  },
  {
   "cell_type": "code",
   "execution_count": 14,
   "metadata": {},
   "outputs": [
    {
     "name": "stdout",
     "output_type": "stream",
     "text": [
      "['wish', 'to', 'find', 'the', 'movie', 'the', 'heart', 'beat']\n",
      "CPU times: user 312 ms, sys: 3.29 ms, total: 315 ms\n",
      "Wall time: 315 ms\n"
     ]
    }
   ],
   "source": [
    "%%time\n",
    "sent_trn_idxes = word_idxpipe.fit_transform([' '.join(s) for s in train_sents])\n",
    "sent_tst_idxes = word_idxpipe.transform([' '.join(s) for s in test_sents])\n",
    "cx = word_idxpipe.inverse_transform(sent_tst_idxes[0:2])\n",
    "print(cx[0])"
   ]
  },
  {
   "cell_type": "code",
   "execution_count": 15,
   "metadata": {},
   "outputs": [
    {
     "data": {
      "text/plain": [
       "(13784, 15)"
      ]
     },
     "execution_count": 15,
     "metadata": {},
     "output_type": "execute_result"
    }
   ],
   "source": [
    "np.shape(sent_trn_idxes)"
   ]
  },
  {
   "cell_type": "code",
   "execution_count": 16,
   "metadata": {},
   "outputs": [
    {
     "data": {
      "text/plain": [
       "(13784, 15, 1)"
      ]
     },
     "execution_count": 16,
     "metadata": {},
     "output_type": "execute_result"
    }
   ],
   "source": [
    "np.shape(tags_trn_idxes)"
   ]
  },
  {
   "cell_type": "code",
   "execution_count": 17,
   "metadata": {},
   "outputs": [
    {
     "data": {
      "text/plain": [
       "(13784, 1)"
      ]
     },
     "execution_count": 17,
     "metadata": {},
     "output_type": "execute_result"
    }
   ],
   "source": [
    "np.shape(int_trn_idxes)"
   ]
  },
  {
   "cell_type": "code",
   "execution_count": 18,
   "metadata": {},
   "outputs": [
    {
     "data": {
      "text/plain": [
       "(array([0, 1, 2, 3, 4, 5, 6]), array([0, 1, 2, 3, 4, 5, 6]))"
      ]
     },
     "execution_count": 18,
     "metadata": {},
     "output_type": "execute_result"
    }
   ],
   "source": [
    "np.unique(int_trn_idxes), np.unique(int_tst_idxes)"
   ]
  },
  {
   "cell_type": "code",
   "execution_count": 19,
   "metadata": {},
   "outputs": [],
   "source": [
    "np.save('../00_data/encoded/snips_x_train.npy', sent_trn_idxes)\n",
    "np.save('../00_data/encoded/snips_x_test.npy', sent_tst_idxes)\n",
    "\n",
    "np.save('../00_data/encoded/snips_y_tags_train.npy', tags_trn_idxes)\n",
    "np.save('../00_data/encoded/snips_y_tags_test.npy', tags_tst_idxes)\n",
    "\n",
    "np.save('../00_data/encoded/snips_y_int_train.npy', int_trn_idxes)\n",
    "np.save('../00_data/encoded/snips_y_int_test.npy', int_tst_idxes)"
   ]
  },
  {
   "cell_type": "code",
   "execution_count": 20,
   "metadata": {},
   "outputs": [],
   "source": [
    "pickle.dump(intent_indexer, open(\"../00_data/encoded/snips_intent_indexer.pkl\", \"wb\"))\n",
    "pickle.dump(label_indexer, open(\"../00_data/encoded/snips_label_indexer.pkl\", \"wb\"))\n",
    "pickle.dump(word_idxpipe, open(\"../00_data/encoded/snips_sent_indexer.pkl\", \"wb\"))"
   ]
  },
  {
   "cell_type": "code",
   "execution_count": null,
   "metadata": {},
   "outputs": [],
   "source": []
  }
 ],
 "metadata": {
  "kernelspec": {
   "display_name": "atlas",
   "language": "python",
   "name": "atlas"
  },
  "language_info": {
   "codemirror_mode": {
    "name": "ipython",
    "version": 3
   },
   "file_extension": ".py",
   "mimetype": "text/x-python",
   "name": "python",
   "nbconvert_exporter": "python",
   "pygments_lexer": "ipython3",
   "version": "3.6.3"
  }
 },
 "nbformat": 4,
 "nbformat_minor": 2
}
